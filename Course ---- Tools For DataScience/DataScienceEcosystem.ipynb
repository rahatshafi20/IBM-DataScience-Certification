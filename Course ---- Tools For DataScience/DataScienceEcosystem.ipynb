{
 "cells": [
  {
   "cell_type": "markdown",
   "id": "204e0c50-8585-4dfc-a761-52ac06895da4",
   "metadata": {},
   "source": [
    "# Data Science Tools and Ecosystem"
   ]
  },
  {
   "cell_type": "markdown",
   "id": "6387d2e4-464b-43ab-98ab-923c6775862f",
   "metadata": {},
   "source": [
    "#### ScreenShot\n",
    "![Screenshot](2-title.png)"
   ]
  },
  {
   "cell_type": "markdown",
   "id": "ab9466b1-a80e-4326-a13c-bd31fac73177",
   "metadata": {},
   "source": [
    "# In this notebook, Data Science Tools and Ecosystem are summarized."
   ]
  },
  {
   "cell_type": "markdown",
   "id": "14d308fb-44bb-4768-a087-6cdfdd54ba74",
   "metadata": {},
   "source": [
    "#### ScreenShot\n",
    "![SS](3-intro.png)"
   ]
  },
  {
   "cell_type": "markdown",
   "id": "ccd0c99e-b6e4-4807-92bb-5c427a01414e",
   "metadata": {},
   "source": [
    "# Some of the popular languages that Data Scientists use are:\n",
    "<ol>\n",
    "<li>Python</li>\n",
    "<li>R</li>\n",
    "<li>SQL</li>\n",
    "<li>C++</li>\n",
    "<li>Julian</li>\n",
    "</ol>"
   ]
  },
  {
   "cell_type": "markdown",
   "id": "d1198a76-9135-4eee-b2bc-063901dfe04a",
   "metadata": {},
   "source": [
    "#### ScreenShot\n",
    "![pic](4-dslanguages.png)"
   ]
  },
  {
   "cell_type": "markdown",
   "id": "e3ba2745-ce53-4601-acd3-b7aa26098fb9",
   "metadata": {},
   "source": [
    "# Some of the commonly used libraries used by Data Scientists include:"
   ]
  },
  {
   "cell_type": "markdown",
   "id": "b13e893c-a8de-49d6-84ab-c1c1e2cf71ac",
   "metadata": {},
   "source": [
    "<ol>\n",
    "<li>Numpy</li>\n",
    "<li> Scipy </li>\n",
    "<li> Pandas </li>\n",
    "<li> TensorFlow </li>\n",
    "<li> PyTorch </li>\n",
    "</ol>"
   ]
  },
  {
   "cell_type": "markdown",
   "id": "ee4a3319-60cb-4bfb-a441-45be40076f79",
   "metadata": {},
   "source": [
    "#### ScreenShot\n",
    "![lib_pic](ds-libraries.png)"
   ]
  },
  {
   "cell_type": "markdown",
   "id": "e818f89d-8152-4871-8163-0025cf4c4af0",
   "metadata": {},
   "source": [
    "# Data Science Tools\n",
    "<table>\n",
    "<tr>\n",
    "<th><b>Data Science Tools</b></th>\n",
    "</tr>\n",
    "<tr>\n",
    "<td>Jupyter Studio</td>\n",
    "</tr>\n",
    "<tr>\n",
    "<td>R Studio</td>\n",
    "</tr>\n",
    "<tr>\n",
    "<td>PyCharm</td>\n",
    "</tr>\n",
    "</table>"
   ]
  },
  {
   "cell_type": "markdown",
   "id": "4586a0c1-12d1-4bbb-b0c5-be39fbee7fe5",
   "metadata": {},
   "source": [
    "#### Screenshot\n",
    "![dt_ss](6-dstools.png)"
   ]
  },
  {
   "cell_type": "markdown",
   "id": "c626bb06-b642-4886-836d-f3157b8ad83c",
   "metadata": {},
   "source": [
    "### Below are a few examples of evaluating arithmetic expressions in Python\n",
    "### a = b + 5\n",
    "### z = a - 7"
   ]
  },
  {
   "cell_type": "markdown",
   "id": "5b3d72d6-bfcb-4347-9e8d-4df198dca6e6",
   "metadata": {},
   "source": [
    "#### ScreenShot\n",
    "![athr_ss](7-introarithmetic.png)"
   ]
  },
  {
   "cell_type": "code",
   "execution_count": 1,
   "id": "b0380ce9-23dd-459a-864f-ac6ea1206af5",
   "metadata": {},
   "outputs": [
    {
     "data": {
      "text/plain": [
       "17"
      ]
     },
     "execution_count": 1,
     "metadata": {},
     "output_type": "execute_result"
    }
   ],
   "source": [
    "#Below is an expression to be solved using python\n",
    "(3*4)+5"
   ]
  },
  {
   "cell_type": "markdown",
   "id": "1d0c6cf3-59f9-4eef-92c7-d2f40afbec00",
   "metadata": {},
   "source": [
    "#### ScreenShot\n",
    "![mul_add_ss](8-multiplyandaddintegers.png)"
   ]
  },
  {
   "cell_type": "code",
   "execution_count": 2,
   "id": "355fb253-d9c2-4b81-9f51-5eaa612317c4",
   "metadata": {},
   "outputs": [
    {
     "data": {
      "text/plain": [
       "3"
      ]
     },
     "execution_count": 2,
     "metadata": {},
     "output_type": "execute_result"
    }
   ],
   "source": [
    "#The expression below will convert 200 minutes to hours (will print the exact hours only and not include remaining minutes)\n",
    "200//60"
   ]
  },
  {
   "cell_type": "markdown",
   "id": "911aa528-1ca7-4e38-8493-a9ebb9675e5e",
   "metadata": {},
   "source": [
    "#### Screenshot\n",
    "![h_ss](9-hourstominutes.png)"
   ]
  },
  {
   "cell_type": "markdown",
   "id": "ba64980c-1b31-4be4-b6b7-2680b262fe69",
   "metadata": {},
   "source": [
    "## Objectives:\n",
    "<ul>\n",
    "    <li>Popular languages</li>\n",
    "    <li>Data Science libraries</li>\n",
    "    <li>Data Science Tools</li>\n",
    "    <li>Arthmetics</li>\n",
    "    <li>Minutes to Hours conversion</li>\n",
    "</ul>"
   ]
  },
  {
   "cell_type": "markdown",
   "id": "52d81957-d190-4bd8-b4b6-a4cbf3397d9b",
   "metadata": {},
   "source": [
    "#### Screenshot\n",
    "![ss](10-objectives.png)"
   ]
  },
  {
   "cell_type": "markdown",
   "id": "cd0e5207-4534-4074-9108-101e31afc731",
   "metadata": {},
   "source": [
    "## Author\n",
    "Muhamnmad Rahat Shafi"
   ]
  },
  {
   "cell_type": "markdown",
   "id": "a9cd932a-73e8-4134-bab4-0701bd0ba673",
   "metadata": {},
   "source": [
    "#### Screenshot\n",
    "![ss](11-authordetails.png)"
   ]
  }
 ],
 "metadata": {
  "kernelspec": {
   "display_name": "Python 3 (ipykernel)",
   "language": "python",
   "name": "python3"
  },
  "language_info": {
   "codemirror_mode": {
    "name": "ipython",
    "version": 3
   },
   "file_extension": ".py",
   "mimetype": "text/x-python",
   "name": "python",
   "nbconvert_exporter": "python",
   "pygments_lexer": "ipython3",
   "version": "3.12.5"
  }
 },
 "nbformat": 4,
 "nbformat_minor": 5
}
